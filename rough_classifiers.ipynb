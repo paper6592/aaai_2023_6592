{
 "cells": [
  {
   "cell_type": "code",
   "execution_count": 1,
   "id": "4e644ed8",
   "metadata": {},
   "outputs": [],
   "source": [
    "import numpy as np\n",
    "from data_utils import preprocessDataset\n",
    "from sklearn.linear_model import LogisticRegression"
   ]
  },
  {
   "cell_type": "code",
   "execution_count": 2,
   "id": "8de7ee0c",
   "metadata": {},
   "outputs": [],
   "source": [
    "train_dataset, test_dataset = preprocessDataset(f'/media/data_dump/Mohit/neurips2022_data/adult/raw/betaDatasets/imbalance_1.0_1.0', f'/media/data_dump/Mohit/neurips2022_data/adult/raw/original_test.csv', 'adult')"
   ]
  },
  {
   "cell_type": "code",
   "execution_count": 3,
   "id": "2b821228",
   "metadata": {},
   "outputs": [],
   "source": [
    "#from aif360.algorithms.preprocessing import DisparateImpactRemover"
   ]
  },
  {
   "cell_type": "code",
   "execution_count": 4,
   "id": "d7031b74",
   "metadata": {},
   "outputs": [],
   "source": [
    "#preProc = DisparateImpactRemover(sensitive_attribute='sex')"
   ]
  },
  {
   "cell_type": "code",
   "execution_count": 5,
   "id": "18212bce",
   "metadata": {},
   "outputs": [],
   "source": [
    "#new_train_dataset = preProc.fit_transform(train_dataset)"
   ]
  },
  {
   "cell_type": "code",
   "execution_count": 6,
   "id": "727b1bfb",
   "metadata": {},
   "outputs": [],
   "source": [
    "# from aif360.metrics import ClassificationMetric\n",
    "# import copy\n",
    "# model = LogisticRegression().fit(new_train_dataset.features[:,:-1], new_train_dataset.labels.squeeze())\n",
    "# new_test_set = copy.deepcopy(test_dataset)\n",
    "# new_test_set.labels = model.predict(new_test_set.features[:,:-1])"
   ]
  },
  {
   "cell_type": "code",
   "execution_count": 7,
   "id": "c90f88e5",
   "metadata": {},
   "outputs": [],
   "source": [
    "# privileged_groups = [{'sex':1}]\n",
    "# unprivileged_groups = [{'sex': 0}]\n",
    "# ClassificationMetric(test_dataset, new_test_set, unprivileged_groups, privileged_groups).mean_difference()"
   ]
  },
  {
   "cell_type": "code",
   "execution_count": 8,
   "id": "98b1a07c",
   "metadata": {},
   "outputs": [],
   "source": [
    "#ClassificationMetric(test_dataset, test_dataset, unprivileged_groups, privileged_groups).mean_difference()"
   ]
  },
  {
   "cell_type": "code",
   "execution_count": 9,
   "id": "e5d148a4",
   "metadata": {},
   "outputs": [],
   "source": [
    "from allClassifiers.zafar_eo import trainZafarClassifier_EO\n",
    "from utils import test_zafar"
   ]
  },
  {
   "cell_type": "code",
   "execution_count": null,
   "id": "81628dbd",
   "metadata": {
    "scrolled": true
   },
   "outputs": [
    {
     "name": "stdout",
     "output_type": "stream",
     "text": [
      "===============================================================================\n",
      "                                     CVXPY                                     \n",
      "                                    v1.1.19                                    \n",
      "===============================================================================\n",
      "(CVXPY) Jun 23 10:03:42 AM: Your problem has 95 variables, 0 constraints, and 0 parameters.\n",
      "(CVXPY) Jun 23 10:03:42 AM: It is compliant with the following grammars: DCP, DQCP\n",
      "(CVXPY) Jun 23 10:03:42 AM: (If you need to solve this problem multiple times, but with different data, consider using parameters.)\n",
      "(CVXPY) Jun 23 10:03:42 AM: CVXPY will first compile your problem; then, it will invoke a numerical solver to obtain a solution.\n",
      "-------------------------------------------------------------------------------\n",
      "                                  Compilation                                  \n",
      "-------------------------------------------------------------------------------\n",
      "(CVXPY) Jun 23 10:03:42 AM: Compiling problem (target solver=ECOS).\n",
      "(CVXPY) Jun 23 10:03:42 AM: Reduction chain: Dcp2Cone -> CvxAttr2Constr -> ConeMatrixStuffing -> ECOS\n",
      "(CVXPY) Jun 23 10:03:42 AM: Applying reduction Dcp2Cone\n",
      "(CVXPY) Jun 23 10:03:42 AM: Applying reduction CvxAttr2Constr\n",
      "(CVXPY) Jun 23 10:03:42 AM: Applying reduction ConeMatrixStuffing\n"
     ]
    },
    {
     "name": "stderr",
     "output_type": "stream",
     "text": [
      "\n",
      "This use of ``*`` has resulted in matrix multiplication.\n",
      "Using ``*`` for matrix multiplication has been deprecated since CVXPY 1.1.\n",
      "    Use ``*`` for matrix-scalar and vector-scalar multiplication.\n",
      "    Use ``@`` for matrix-matrix and matrix-vector multiplication.\n",
      "    Use ``multiply`` for elementwise multiplication.\n",
      "This code path has been hit 1 times so far.\n",
      "\n",
      "\n",
      "This use of ``*`` has resulted in matrix multiplication.\n",
      "Using ``*`` for matrix multiplication has been deprecated since CVXPY 1.1.\n",
      "    Use ``*`` for matrix-scalar and vector-scalar multiplication.\n",
      "    Use ``@`` for matrix-matrix and matrix-vector multiplication.\n",
      "    Use ``multiply`` for elementwise multiplication.\n",
      "This code path has been hit 2 times so far.\n",
      "\n",
      "\n",
      "This use of ``*`` has resulted in matrix multiplication.\n",
      "Using ``*`` for matrix multiplication has been deprecated since CVXPY 1.1.\n",
      "    Use ``*`` for matrix-scalar and vector-scalar multiplication.\n",
      "    Use ``@`` for matrix-matrix and matrix-vector multiplication.\n",
      "    Use ``multiply`` for elementwise multiplication.\n",
      "This code path has been hit 3 times so far.\n",
      "\n"
     ]
    },
    {
     "name": "stdout",
     "output_type": "stream",
     "text": [
      "(CVXPY) Jun 23 10:03:42 AM: Applying reduction ECOS\n",
      "(CVXPY) Jun 23 10:03:42 AM: Finished problem compilation (took 4.279e-01 seconds).\n",
      "-------------------------------------------------------------------------------\n",
      "                                Numerical solver                               \n",
      "-------------------------------------------------------------------------------\n",
      "(CVXPY) Jun 23 10:03:42 AM: Invoking solver ECOS  to obtain a solution.\n",
      "Solver 'ECOS' failed. Try another solver, or solve with verbose=True for more information.\n",
      "===============================================================================\n",
      "                                     CVXPY                                     \n",
      "                                    v1.1.19                                    \n",
      "===============================================================================\n",
      "(CVXPY) Jun 23 10:04:02 AM: Your problem has 95 variables, 0 constraints, and 0 parameters.\n",
      "(CVXPY) Jun 23 10:04:02 AM: It is compliant with the following grammars: DCP, DQCP\n",
      "(CVXPY) Jun 23 10:04:02 AM: (If you need to solve this problem multiple times, but with different data, consider using parameters.)\n",
      "(CVXPY) Jun 23 10:04:02 AM: CVXPY will first compile your problem; then, it will invoke a numerical solver to obtain a solution.\n",
      "-------------------------------------------------------------------------------\n",
      "                                  Compilation                                  \n",
      "-------------------------------------------------------------------------------\n",
      "(CVXPY) Jun 23 10:04:02 AM: Compiling problem (target solver=SCS).\n",
      "(CVXPY) Jun 23 10:04:02 AM: Reduction chain: Dcp2Cone -> CvxAttr2Constr -> ConeMatrixStuffing -> SCS\n",
      "(CVXPY) Jun 23 10:04:02 AM: Applying reduction Dcp2Cone\n",
      "(CVXPY) Jun 23 10:04:02 AM: Applying reduction CvxAttr2Constr\n",
      "(CVXPY) Jun 23 10:04:02 AM: Applying reduction ConeMatrixStuffing\n",
      "(CVXPY) Jun 23 10:04:02 AM: Applying reduction SCS\n",
      "(CVXPY) Jun 23 10:04:03 AM: Finished problem compilation (took 3.459e-01 seconds).\n",
      "-------------------------------------------------------------------------------\n",
      "                                Numerical solver                               \n",
      "-------------------------------------------------------------------------------\n",
      "(CVXPY) Jun 23 10:04:03 AM: Invoking solver SCS  to obtain a solution.\n",
      "------------------------------------------------------------------\n",
      "\t       SCS v3.2.0 - Splitting Conic Solver\n",
      "\t(c) Brendan O'Donoghue, Stanford University, 2012\n",
      "------------------------------------------------------------------\n",
      "problem:  variables n: 90581, constraints m: 211134\n",
      "cones: \t  l: linear vars: 30162\n",
      "\t  e: exp vars: 180972, dual exp vars: 0\n",
      "settings: eps_abs: 1.0e-05, eps_rel: 1.0e-05, eps_infeas: 1.0e-07\n",
      "\t  alpha: 1.50, scale: 1.00e-01, adaptive_scale: 1\n",
      "\t  max_iters: 100000, normalize: 1, rho_x: 1.00e-06\n",
      "\t  acceleration_lookback: 10, acceleration_interval: 10\n",
      "lin-sys:  sparse-direct\n",
      "\t  nnz(A): 482592, nnz(P): 0\n",
      "------------------------------------------------------------------\n",
      " iter | pri res | dua res |   gap   |   obj   |  scale  | time (s)\n",
      "------------------------------------------------------------------\n",
      "     0| 1.00e+00  3.98e+02  3.76e+03  1.88e+03  1.00e-01  6.05e-01 \n",
      "   250| 1.60e-01  1.39e-06  3.58e-04  3.25e-01  1.00e-06  9.93e+01 \n",
      "   500| 2.09e-02  1.67e-08  4.52e-06  3.26e-01  1.00e-06  2.56e+02 \n",
      "   750| 9.02e-03  4.71e-09  1.27e-06  3.26e-01  1.00e-06  4.16e+02 \n",
      "  1000| 8.04e-03  1.49e-09  3.91e-07  3.26e-01  1.00e-06  5.73e+02 \n",
      "  1250| 8.94e-03  1.44e-09  1.25e-07  3.26e-01  1.00e-06  7.32e+02 \n",
      "  1500| 8.84e-03  1.39e-09  4.49e-08  3.26e-01  1.00e-06  8.94e+02 \n",
      "  1750| 8.74e-03  1.34e-09  2.26e-08  3.26e-01  1.00e-06  1.05e+03 \n",
      "  2000| 8.77e-03  1.30e-09  1.33e-08  3.26e-01  1.00e-06  1.21e+03 \n",
      "  2250| 2.52e+01  8.95e-04  1.57e-04  3.25e-01  1.00e-06  1.37e+03 \n",
      "  2500| 8.57e-03  1.22e-09  1.17e-08  3.26e-01  1.00e-06  1.53e+03 \n",
      "  2750| 8.97e-03  1.18e-09  1.10e-08  3.26e-01  1.00e-06  1.69e+03 \n",
      "  3000| 8.79e-03  1.15e-09  4.12e-09  3.26e-01  1.00e-06  1.85e+03 \n",
      "  3250| 8.70e-03  1.12e-09  8.56e-09  3.26e-01  1.00e-06  2.01e+03 \n",
      "  3500| 8.99e-03  1.09e-09  5.51e-09  3.26e-01  1.00e-06  2.17e+03 \n",
      "  3750| 8.57e-03  1.06e-09  4.36e-09  3.26e-01  1.00e-06  2.32e+03 \n",
      "  4000| 8.79e-03  1.03e-09  6.45e-09  3.26e-01  1.00e-06  2.48e+03 \n",
      "  4250| 8.79e-03  1.01e-09  2.86e-09  3.26e-01  1.00e-06  2.65e+03 \n",
      "  4500| 8.62e-03  9.82e-10  5.97e-09  3.26e-01  1.00e-06  2.80e+03 \n",
      "  4750| 8.84e-03  9.59e-10  8.59e-09  3.26e-01  1.00e-06  2.96e+03 \n",
      "  5000| 6.06e+01  1.23e-03  1.43e-04  3.26e-01  1.00e-06  3.12e+03 \n",
      "  5250| 8.51e-03  9.15e-10  8.77e-09  3.26e-01  1.00e-06  3.27e+03 \n",
      "  5500| 8.97e-03  8.95e-10  5.44e-10  3.26e-01  1.00e-06  3.43e+03 \n",
      "  5750| 8.97e-03  8.75e-10  6.61e-09  3.26e-01  1.00e-06  3.59e+03 \n",
      "  6000| 8.79e-03  8.57e-10  3.25e-09  3.26e-01  1.00e-06  3.75e+03 \n",
      "  6250| 8.48e-03  8.39e-10  1.28e-08  3.26e-01  1.00e-06  3.91e+03 \n",
      "  6500| 8.71e-03  8.22e-10  2.31e-09  3.26e-01  1.00e-06  4.07e+03 \n",
      "  6750| 8.79e-03  8.05e-10  4.86e-09  3.26e-01  1.00e-06  4.23e+03 \n",
      "  7000| 8.53e-03  7.90e-10  2.67e-09  3.26e-01  1.00e-06  4.39e+03 \n",
      "  7250| 8.99e-03  7.75e-10  1.07e-08  3.26e-01  1.00e-06  4.55e+03 \n",
      "  7500| 8.50e-03  7.60e-10  1.41e-08  3.26e-01  1.00e-06  4.71e+03 \n",
      "  7750| 1.19e+01  2.47e-04  6.29e-05  3.26e-01  1.00e-06  4.87e+03 \n",
      "  8000| 8.79e-03  7.32e-10  9.61e-09  3.26e-01  1.00e-06  5.03e+03 \n",
      "  8250| 8.97e-03  7.19e-10  3.38e-09  3.26e-01  1.00e-06  5.19e+03 \n",
      "  8500| 8.50e-03  7.07e-10  4.12e-09  3.26e-01  1.00e-06  5.35e+03 \n",
      "  8750| 8.79e-03  6.94e-10  1.66e-09  3.26e-01  1.00e-06  5.51e+03 \n",
      "  9000| 8.92e-03  6.83e-10  7.23e-09  3.26e-01  1.00e-06  5.67e+03 \n",
      "  9250| 8.71e-03  6.71e-10  5.98e-09  3.26e-01  1.00e-06  5.83e+03 \n",
      "  9500| 8.70e-03  6.60e-10  4.81e-09  3.26e-01  1.00e-06  5.99e+03 \n",
      "  9750| 8.85e-03  6.50e-10  4.45e-09  3.26e-01  1.00e-06  6.15e+03 \n",
      " 10000| 8.97e-03  6.39e-10  5.90e-09  3.26e-01  1.00e-06  6.31e+03 \n",
      " 10250| 9.19e-03  6.29e-10  4.93e-09  3.26e-01  1.00e-06  6.47e+03 \n",
      " 10500| 7.33e+01  2.51e-03  2.88e-04  3.25e-01  1.00e-06  6.62e+03 \n",
      " 10750| 9.19e-03  6.10e-10  1.20e-10  3.26e-01  1.00e-06  6.78e+03 \n",
      " 11000| 8.99e-03  6.01e-10  1.91e-09  3.26e-01  1.00e-06  6.94e+03 \n",
      " 11250| 8.84e-03  5.92e-10  4.75e-09  3.26e-01  1.00e-06  7.10e+03 \n",
      " 11500| 8.84e-03  5.84e-10  3.54e-09  3.26e-01  1.00e-06  7.26e+03 \n",
      " 11750| 9.37e-03  5.75e-10  8.60e-09  3.26e-01  1.00e-06  7.42e+03 \n",
      " 12000| 8.73e-03  5.67e-10  3.28e-09  3.26e-01  1.00e-06  7.58e+03 \n",
      " 12250| 8.31e-03  5.59e-10  1.02e-08  3.26e-01  1.00e-06  7.73e+03 \n",
      " 12500| 8.32e-03  5.52e-10  7.23e-09  3.26e-01  1.00e-06  7.89e+03 \n",
      " 12750| 8.85e-03  5.44e-10  1.34e-09  3.26e-01  1.00e-06  8.05e+03 \n",
      " 13000| 8.79e-03  5.37e-10  7.44e-09  3.26e-01  1.00e-06  8.21e+03 \n",
      " 13250| 8.66e+02  1.84e-02  3.69e-03  3.22e-01  1.00e-06  8.37e+03 \n",
      " 13500| 9.19e-03  5.23e-10  4.85e-09  3.26e-01  1.00e-06  8.53e+03 \n",
      " 13750| 8.97e-03  5.16e-10  7.66e-09  3.26e-01  1.00e-06  8.69e+03 \n",
      " 14000| 8.60e-03  5.10e-10  8.14e-09  3.26e-01  1.00e-06  8.85e+03 \n",
      " 14250| 8.51e-03  5.04e-10  9.75e-09  3.26e-01  1.00e-06  9.01e+03 \n",
      " 14500| 8.70e-03  4.97e-10  1.15e-08  3.26e-01  1.00e-06  9.17e+03 \n",
      " 14750| 8.99e-03  4.91e-10  2.85e-09  3.26e-01  1.00e-06  9.33e+03 \n",
      " 15000| 8.72e-03  4.85e-10  9.49e-09  3.26e-01  1.00e-06  9.49e+03 \n",
      " 15250| 8.22e-03  4.80e-10  4.54e-09  3.26e-01  1.00e-06  9.65e+03 \n",
      " 15500| 8.97e-03  4.74e-10  5.93e-09  3.26e-01  1.00e-06  9.81e+03 \n",
      " 15750| 8.79e-03  4.68e-10  3.21e-09  3.26e-01  1.00e-06  9.97e+03 \n",
      " 16000| 7.12e+00  7.34e-05  2.13e-05  3.26e-01  1.00e-06  1.01e+04 \n",
      " 16250| 8.50e-03  4.58e-10  1.02e-08  3.26e-01  1.00e-06  1.03e+04 \n",
      " 16500| 8.97e-03  4.53e-10  3.98e-09  3.26e-01  1.00e-06  1.05e+04 \n",
      " 16750| 8.79e-03  4.48e-10  1.14e-08  3.26e-01  1.00e-06  1.06e+04 \n",
      " 17000| 8.79e-03  4.43e-10  1.19e-09  3.26e-01  1.00e-06  1.08e+04 \n",
      " 17250| 8.51e-03  4.38e-10  6.72e-10  3.26e-01  1.00e-06  1.09e+04 \n",
      " 17500| 8.70e-03  4.33e-10  2.00e-09  3.26e-01  1.00e-06  1.11e+04 \n",
      " 17750| 8.84e-03  4.29e-10  2.61e-09  3.26e-01  1.00e-06  1.13e+04 \n",
      " 18000| 8.84e-03  4.24e-10  3.75e-09  3.26e-01  1.00e-06  1.14e+04 \n",
      " 18250| 8.92e-03  4.20e-10  3.23e-09  3.26e-01  1.00e-06  1.16e+04 \n"
     ]
    },
    {
     "name": "stdout",
     "output_type": "stream",
     "text": [
      " 18500| 8.71e-03  4.15e-10  8.27e-10  3.26e-01  1.00e-06  1.17e+04 \n",
      " 18750| 1.16e+01  2.30e-04  5.19e-05  3.26e-01  1.00e-06  1.19e+04 \n",
      " 19000| 8.72e-03  4.07e-10  6.04e-10  3.26e-01  1.00e-06  1.21e+04 \n",
      " 19250| 8.97e-03  4.03e-10  2.87e-09  3.26e-01  1.00e-06  1.22e+04 \n",
      " 19500| 8.71e-03  3.99e-10  5.99e-09  3.26e-01  1.00e-06  1.24e+04 \n",
      " 19750| 8.97e-03  3.95e-10  8.32e-09  3.26e-01  1.00e-06  1.25e+04 \n",
      " 20000| 8.50e-03  3.91e-10  6.44e-09  3.26e-01  1.00e-06  1.27e+04 \n",
      " 20250| 8.51e-03  3.87e-10  5.48e-09  3.26e-01  1.00e-06  1.29e+04 \n",
      " 20500| 8.62e-03  3.84e-10  4.41e-10  3.26e-01  1.00e-06  1.30e+04 \n",
      " 20750| 8.94e-03  3.80e-10  2.10e-09  3.26e-01  1.00e-06  1.32e+04 \n",
      " 21000| 8.72e-03  3.77e-10  7.88e-10  3.26e-01  1.00e-06  1.33e+04 \n",
      " 21250| 8.57e-03  3.73e-10  1.11e-08  3.26e-01  1.00e-06  1.35e+04 \n",
      " 21500| 6.36e+00  3.37e-05  2.24e-05  3.26e-01  1.00e-06  1.37e+04 \n",
      " 21750| 8.79e-03  3.66e-10  3.45e-10  3.26e-01  1.00e-06  1.38e+04 \n",
      " 22000| 7.24e-04  3.64e-10  3.84e-10  3.26e-01  3.16e-06  1.40e+04 \n",
      " 22250| 7.08e-04  3.63e-10  1.25e-09  3.26e-01  3.16e-06  1.41e+04 \n",
      " 22500| 6.68e-04  3.61e-10  2.34e-09  3.26e-01  3.16e-06  1.43e+04 \n",
      " 22750| 7.25e-04  3.60e-10  1.88e-10  3.26e-01  3.16e-06  1.45e+04 \n",
      " 23000| 8.64e-01  3.28e-09  3.92e-07  3.26e-01  3.16e-06  1.46e+04 \n",
      " 23250| 7.19e-04  3.58e-10  9.90e-10  3.26e-01  3.16e-06  1.48e+04 \n",
      " 23500| 6.57e-04  3.56e-10  7.98e-10  3.26e-01  3.16e-06  1.49e+04 \n",
      " 23750| 6.93e-04  3.55e-10  9.63e-10  3.26e-01  3.16e-06  1.51e+04 \n",
      " 24000| 6.79e-04  3.54e-10  1.59e-09  3.26e-01  3.16e-06  1.53e+04 \n",
      " 24250| 6.68e-04  3.53e-10  3.23e-09  3.26e-01  3.16e-06  1.54e+04 \n",
      " 24500| 6.91e-04  3.52e-10  9.02e-10  3.26e-01  3.16e-06  1.56e+04 \n",
      " 24750| 6.81e-04  3.51e-10  2.97e-09  3.26e-01  3.16e-06  1.58e+04 \n",
      " 25000| 6.75e-04  3.49e-10  1.50e-09  3.26e-01  3.16e-06  1.59e+04 \n",
      " 25250| 6.44e-04  3.48e-10  2.38e-09  3.26e-01  3.16e-06  1.61e+04 \n",
      " 25500| 6.91e-04  3.47e-10  8.81e-10  3.26e-01  3.16e-06  1.62e+04 \n",
      " 25750| 7.42e-01  5.18e-10  3.82e-07  3.26e-01  3.16e-06  1.64e+04 \n",
      " 26000| 6.80e-04  3.45e-10  1.86e-09  3.26e-01  3.16e-06  1.66e+04 \n",
      " 26250| 6.75e-04  3.44e-10  2.67e-09  3.26e-01  3.16e-06  1.67e+04 \n",
      " 26500| 6.75e-04  3.43e-10  7.35e-11  3.26e-01  3.16e-06  1.69e+04 \n",
      " 26750| 7.24e-04  3.41e-10  2.80e-09  3.26e-01  3.16e-06  1.70e+04 \n",
      " 27000| 6.99e-04  3.40e-10  7.45e-10  3.26e-01  3.16e-06  1.72e+04 \n",
      " 27250| 6.68e-04  3.39e-10  3.30e-09  3.26e-01  3.16e-06  1.74e+04 \n",
      " 27500| 6.43e-04  3.38e-10  7.49e-10  3.26e-01  3.16e-06  1.75e+04 \n",
      " 27750| 6.75e-04  3.37e-10  8.84e-10  3.26e-01  3.16e-06  1.77e+04 \n",
      " 28000| 6.80e-04  3.36e-10  4.13e-09  3.26e-01  3.16e-06  1.78e+04 \n",
      " 28250| 7.26e-04  3.35e-10  4.32e-10  3.26e-01  3.16e-06  1.80e+04 \n",
      " 28500| 8.17e-01  3.97e-09  8.63e-07  3.26e-01  3.16e-06  1.81e+04 \n",
      " 28750| 6.99e-04  3.33e-10  1.78e-09  3.26e-01  3.16e-06  1.83e+04 \n",
      " 29000| 6.91e-04  3.32e-10  5.47e-10  3.26e-01  3.16e-06  1.84e+04 \n",
      " 29250| 7.01e-04  3.31e-10  9.21e-10  3.26e-01  3.16e-06  1.86e+04 \n",
      " 29500| 7.01e-04  3.30e-10  1.42e-09  3.26e-01  3.16e-06  1.88e+04 \n",
      " 29750| 7.08e-04  3.29e-10  2.56e-09  3.26e-01  3.16e-06  1.89e+04 \n",
      " 30000| 6.99e-04  3.28e-10  1.43e-09  3.26e-01  3.16e-06  1.91e+04 \n",
      " 30250| 7.26e-04  3.27e-10  2.15e-09  3.26e-01  3.16e-06  1.92e+04 \n",
      " 30500| 6.55e-04  3.26e-10  3.64e-09  3.26e-01  3.16e-06  1.94e+04 \n",
      " 30750| 7.25e-04  3.25e-10  1.80e-09  3.26e-01  3.16e-06  1.95e+04 \n",
      " 31000| 7.05e-04  3.24e-10  1.81e-09  3.26e-01  3.16e-06  1.97e+04 \n",
      " 31250| 5.96e-01  1.64e-09  3.14e-07  3.26e-01  3.16e-06  1.99e+04 \n",
      " 31500| 6.56e-04  3.22e-10  8.00e-10  3.26e-01  3.16e-06  2.00e+04 \n",
      " 31750| 6.99e-04  3.21e-10  4.04e-10  3.26e-01  3.16e-06  2.02e+04 \n",
      " 32000| 7.01e-04  3.20e-10  7.15e-10  3.26e-01  3.16e-06  2.03e+04 \n",
      " 32250| 7.01e-04  3.19e-10  2.09e-09  3.26e-01  3.16e-06  2.05e+04 \n",
      " 32500| 6.91e-04  3.18e-10  5.40e-10  3.26e-01  3.16e-06  2.06e+04 \n",
      " 32750| 6.91e-04  3.17e-10  1.41e-09  3.26e-01  3.16e-06  2.08e+04 \n",
      " 33000| 6.99e-04  3.16e-10  3.01e-09  3.26e-01  3.16e-06  2.10e+04 \n",
      " 33250| 6.75e-04  3.15e-10  6.82e-10  3.26e-01  3.16e-06  2.11e+04 \n",
      " 33500| 7.01e-04  3.14e-10  2.32e-09  3.26e-01  3.16e-06  2.13e+04 \n",
      " 33750| 7.24e-04  3.13e-10  1.01e-09  3.26e-01  3.16e-06  2.14e+04 \n",
      " 34000| 6.64e-01  3.67e-09  2.00e-07  3.26e-01  3.16e-06  2.16e+04 \n",
      " 34250| 6.81e-04  3.11e-10  5.76e-10  3.26e-01  3.16e-06  2.18e+04 \n",
      " 34500| 6.80e-04  3.10e-10  1.96e-09  3.26e-01  3.16e-06  2.19e+04 \n",
      " 34750| 6.61e-04  3.10e-10  3.12e-09  3.26e-01  3.16e-06  2.21e+04 \n",
      " 35000| 6.42e-04  3.09e-10  1.31e-09  3.26e-01  3.16e-06  2.22e+04 \n",
      " 35250| 7.28e-04  3.08e-10  3.29e-09  3.26e-01  3.16e-06  2.24e+04 \n",
      " 35500| 6.43e-04  3.07e-10  4.70e-11  3.26e-01  3.16e-06  2.25e+04 \n",
      " 35750| 6.79e-04  3.06e-10  1.57e-09  3.26e-01  3.16e-06  2.27e+04 \n",
      " 36000| 6.80e-04  3.05e-10  3.69e-10  3.26e-01  3.16e-06  2.29e+04 \n",
      " 36250| 6.91e-04  3.04e-10  1.37e-09  3.26e-01  3.16e-06  2.30e+04 \n",
      " 36500| 6.91e-04  3.03e-10  5.60e-10  3.26e-01  3.16e-06  2.32e+04 \n",
      " 36750| 5.95e-01  1.24e-09  1.03e-06  3.26e-01  3.16e-06  2.33e+04 \n",
      " 37000| 7.08e-04  3.02e-10  7.27e-10  3.26e-01  3.16e-06  2.35e+04 \n",
      " 37250| 7.08e-04  3.01e-10  1.27e-09  3.26e-01  3.16e-06  2.37e+04 \n",
      " 37500| 6.81e-04  3.00e-10  7.66e-10  3.26e-01  3.16e-06  2.38e+04 \n",
      " 37750| 6.91e-04  2.99e-10  1.63e-09  3.26e-01  3.16e-06  2.40e+04 \n",
      " 38000| 6.81e-04  2.98e-10  4.96e-10  3.26e-01  3.16e-06  2.41e+04 \n",
      " 38250| 6.92e-04  2.97e-10  2.90e-09  3.26e-01  3.16e-06  2.43e+04 \n",
      " 38500| 6.93e-04  2.97e-10  5.88e-10  3.26e-01  3.16e-06  2.45e+04 \n",
      " 38750| 7.25e-04  2.96e-10  9.70e-11  3.26e-01  3.16e-06  2.46e+04 \n",
      " 39000| 6.68e-04  2.95e-10  2.54e-09  3.26e-01  3.16e-06  2.48e+04 \n",
      " 39250| 6.81e-04  2.94e-10  1.56e-09  3.26e-01  3.16e-06  2.49e+04 \n",
      " 39500| 7.84e-01  5.54e-10  7.39e-07  3.26e-01  3.16e-06  2.51e+04 \n",
      " 39750| 6.81e-04  2.92e-10  9.58e-10  3.26e-01  3.16e-06  2.53e+04 \n",
      " 40000| 6.75e-04  2.92e-10  1.30e-09  3.26e-01  3.16e-06  2.54e+04 \n",
      " 40250| 7.05e-04  2.91e-10  9.68e-10  3.26e-01  3.16e-06  2.56e+04 \n",
      " 40500| 6.80e-04  2.90e-10  2.86e-09  3.26e-01  3.16e-06  2.57e+04 \n",
      " 40750| 6.79e-04  2.89e-10  2.15e-09  3.26e-01  3.16e-06  2.59e+04 \n",
      " 41000| 7.11e-04  2.88e-10  1.64e-09  3.26e-01  3.16e-06  2.61e+04 \n",
      " 41250| 6.75e-04  2.88e-10  1.52e-09  3.26e-01  3.16e-06  2.62e+04 \n",
      " 41500| 6.68e-04  2.87e-10  5.14e-10  3.26e-01  3.16e-06  2.64e+04 \n",
      " 41750| 5.99e-04  2.86e-10  1.59e-09  3.26e-01  3.16e-06  2.65e+04 \n",
      " 42000| 6.93e-04  2.85e-10  1.77e-09  3.26e-01  3.16e-06  2.67e+04 \n",
      " 42250| 6.07e-01  1.56e-09  9.72e-09  3.26e-01  3.16e-06  2.68e+04 \n",
      " 42500| 6.80e-04  2.84e-10  3.28e-09  3.26e-01  3.16e-06  2.70e+04 \n"
     ]
    }
   ],
   "source": [
    "model = trainZafarClassifier_EO(train_dataset)"
   ]
  },
  {
   "cell_type": "code",
   "execution_count": null,
   "id": "17addc32",
   "metadata": {},
   "outputs": [],
   "source": []
  },
  {
   "cell_type": "code",
   "execution_count": null,
   "id": "ab26dcb0",
   "metadata": {},
   "outputs": [],
   "source": []
  },
  {
   "cell_type": "code",
   "execution_count": null,
   "id": "65a128c9",
   "metadata": {},
   "outputs": [
    {
     "name": "stderr",
     "output_type": "stream",
     "text": [
      "\n",
      "  0%|          | 0/100 [00:00<?, ?it/s]\u001b[A"
     ]
    }
   ],
   "source": [
    "dataset = 'bank'\n",
    "constraint = 'dp'\n",
    "from tqdm import tqdm as tqdm\n",
    "import os\n",
    "perFactorLogs = {}\n",
    "for i in tqdm(os.listdir('/media/data_dump/Mohit/neurips2022_data/adult/raw/betaDatasets/')):\n",
    "    train_dataset, test_dataset_original = preprocessDataset(f'/media/data_dump/Mohit/neurips2022_data/{dataset}/raw/betaDatasets/{i}', f'/media/data_dump/Mohit/neurips2022_data/{dataset}/raw/original_test.csv', dataset)\n",
    "    perFactorLogs[i] = None"
   ]
  },
  {
   "cell_type": "code",
   "execution_count": 75,
   "id": "b294d6eb",
   "metadata": {},
   "outputs": [],
   "source": [
    "def plotResults(results, static_var, variable_var, value):\n",
    "    if static_var == 'beta_pos':\n",
    "        stableIndex = 1\n",
    "        variableIndex = 2\n",
    "    else:\n",
    "        stableIndex = 2\n",
    "        variableIndex = 1\n",
    "    results_subsample = {}\n",
    "    for i in results:\n",
    "        temp = i.split('_')\n",
    "        if temp[stableIndex] == value:\n",
    "            results_subsample[float(temp[variableIndex])] = results[i]\n",
    "    plt.figure(figsize=(10,6))\n",
    "    plt.title(f'{dataset}: {variable_var} variable, {static_var} fixed at {value}')\n",
    "    #plt.plot(sorted(results_subsample.keys()), [results_subsample[i][1][0] for i in sorted(results_subsample.keys())], label='error rate')\n",
    "    plt.plot(sorted(results_subsample.keys()), [results_subsample[i][1][1][0] for i in sorted(results_subsample.keys())], label='violation')\n",
    "    plt.xlabel(f'Imbalance on {variable_var}')\n",
    "    plt.ylabel('error rate')\n",
    "    plt.legend(bbox_to_anchor=(1,1))"
   ]
  },
  {
   "cell_type": "code",
   "execution_count": 76,
   "id": "3aa75f7f",
   "metadata": {},
   "outputs": [
    {
     "data": {
      "image/png": "[encoded data removed]",
      "text/plain": [
       "<Figure size 720x432 with 1 Axes>"
      ]
     },
     "metadata": {
      "needs_background": "light"
     },
     "output_type": "display_data"
    }
   ],
   "source": [
    "plotResults(perFactorLogs, static_var='beta_neg', variable_var='beta_pos', value='1.0')"
   ]
  },
  {
   "cell_type": "code",
   "execution_count": 77,
   "id": "a52f0a07",
   "metadata": {},
   "outputs": [],
   "source": [
    "def trainClassifiers_multipleTestSets(train_dataset, test_datasets, dataset='adult', classifier='LR'):\n",
    "    if dataset == 'adult':\n",
    "        sensitive='sex'\n",
    "        label='income'\n",
    "        privileged_groups = [{'sex':1}]\n",
    "        unprivileged_groups = [{'sex': 0}]\n",
    "        favorable_label = 1\n",
    "        unfavorable_label = 0\n",
    "        optim_options = {\n",
    "        \"distortion_fun\": get_distortion_adult,\n",
    "        \"epsilon\": 0.05,\n",
    "        \"clist\": [0.99, 1.99, 2.99],\n",
    "        \"dlist\": [.1, 0.05, 0]\n",
    "        }\n",
    "    elif dataset == 'bank':\n",
    "        sensitive = 'age'\n",
    "        label='deposit'\n",
    "        privileged_groups = [{'age':1}]\n",
    "        unprivileged_groups = [{'age': 0}]\n",
    "        favorable_label = 1\n",
    "        unfavorable_label = 0\n",
    "    elif dataset == 'compas':\n",
    "        sensitive = 'race'\n",
    "        label = 'category'\n",
    "        privileged_groups = [{'race':0}]\n",
    "        unprivileged_groups = [{'race': 1}]\n",
    "        favorable_label = 0\n",
    "        unfavorable_label = 1\n",
    "        optim_options = {\n",
    "        \"distortion_fun\": get_distortion_compas,\n",
    "        \"epsilon\": 0.05,\n",
    "        \"clist\": [0.99, 1.99, 2.99],\n",
    "        \"dlist\": [.1, 0.05, 0]\n",
    "        }\n",
    "    results={}\n",
    "    for i in test_datasets:\n",
    "        results[i] = {}\n",
    "    # Baseline\n",
    "    for i in results:\n",
    "        results[i]['base'] = {}\n",
    "    if classifier == 'LR':\n",
    "        base_classifier = LogisticRegression()\n",
    "    elif classifier == 'SVM':\n",
    "        base_classifier = SVC(probability=True)\n",
    "    base_classifier.fit(train_dataset.features[:,:-1], train_dataset.labels)\n",
    "    # Compute base classifier results on all test sets\n",
    "    for i in results:\n",
    "        pred_test_set = copy.deepcopy(test_datasets[i])\n",
    "        pred_test_set.labels = base_classifier.predict(pred_test_set.features[:,:-1])\n",
    "        results[i]['base']['lr'] = ClassificationMetric(test_datasets[i], pred_test_set, unprivileged_groups=unprivileged_groups, privileged_groups=privileged_groups)\n",
    "    # Preprocessing Algorithms\n",
    "    for i in results:\n",
    "        results[i]['pre'] = {}\n",
    "    # Skipping Disparate Impact remover since it requires the conditional distributions to be same between training and testing sets\n",
    "    #dis_impact_remover = DisparateImpactRemover(sensitive_attribute='sex')\n",
    "    #transformed_train_dataset = dis_impact_remover.fit_transform(train_dataset)\n",
    "    #transformed_test_dataset = dis_impact_remover.fit_transform(test_dataset)\n",
    "    #for i in ['rew', 'optPre']:\n",
    "    for i in ['rew']:\n",
    "        if i == 'rew':\n",
    "            preProc = Reweighing(unprivileged_groups=unprivileged_groups, privileged_groups=privileged_groups)\n",
    "        #elif i == 'optPre':\n",
    "        #    preProc = OptimPreproc(OptTools, optim_options, unprivileged_groups, privileged_groups)\n",
    "        #preProc.fit(train_dataset)\n",
    "        preProc.fit(train_dataset)\n",
    "        new_train_dataset = preProc.transform(train_dataset)\n",
    "        if classifier == 'LR':\n",
    "            cls = LogisticRegression()\n",
    "        elif classifier == 'SVM':\n",
    "            cls = SVC(probability=True)\n",
    "        cls.fit(new_train_dataset.features[:,:-1], new_train_dataset.labels, sample_weight=new_train_dataset.instance_weights)\n",
    "        # For all test sets\n",
    "        for j in results:\n",
    "            new_preds_test = cls.predict(test_datasets[j].features[:,:-1])\n",
    "            pred_test_set = copy.deepcopy(test_datasets[j])\n",
    "            pred_test_set.labels = new_preds_test\n",
    "            results[j]['pre'][i] = ClassificationMetric(test_datasets[j], pred_test_set, unprivileged_groups=unprivileged_groups, privileged_groups=privileged_groups)\n",
    "    return results"
   ]
  },
  {
   "cell_type": "code",
   "execution_count": null,
   "id": "704227c5",
   "metadata": {},
   "outputs": [
    {
     "name": "stderr",
     "output_type": "stream",
     "text": [
      " 76%|███████▌  | 76/100 [04:03<01:18,  3.27s/it]"
     ]
    }
   ],
   "source": [
    "import copy\n",
    "from aif360.algorithms.preprocessing import OptimPreproc, Reweighing\n",
    "from aif360.metrics import ClassificationMetric\n",
    "allDatasetResults = {}\n",
    "for i in tqdm(os.listdir(f'/media/data_dump/Mohit/neurips2022_data/{dataset}/raw/betaDatasets/')):\n",
    "    train_dataset, test_dataset_original = preprocessDataset(f'/media/data_dump/Mohit/neurips2022_data/{dataset}/raw/betaDatasets/{i}', f'/media/data_dump/Mohit/neurips2022_data/{dataset}/raw/original_test.csv', dataset)\n",
    "    _, test_dataset_biased = preprocessDataset(f'/media/data_dump/Mohit/neurips2022_data/{dataset}/raw/betaDatasets/{i}', f'/media/data_dump/Mohit/neurips2022_data/{dataset}/raw/test_betaDatasets/{i}', dataset)\n",
    "    _, test_dataset_balanced = preprocessDataset(f'/media/data_dump/Mohit/neurips2022_data/{dataset}/raw/betaDatasets/{i}', f'/media/data_dump/Mohit/neurips2022_data/{dataset}/balanced/balanced_test.csv', dataset)\n",
    "    test_datasets = {\n",
    "        'balanced':test_dataset_balanced,\n",
    "        'biased':test_dataset_biased,\n",
    "        'original':test_dataset_original\n",
    "    }\n",
    "    allDatasetResults[i] = trainClassifiers_multipleTestSets(train_dataset, test_datasets, dataset, classifier='LR')"
   ]
  },
  {
   "cell_type": "code",
   "execution_count": 85,
   "id": "0a8c399c",
   "metadata": {},
   "outputs": [],
   "source": [
    "def plotResults_multipleTestSets(static_var, variable_var, value, metric='eod', only_plots=['lr', 'rew', 'exp_grad_dp', 'exp_grad_eo', 'eq', 'cal_eq', 'reject'], results=None):\n",
    "    if static_var == 'beta_pos':\n",
    "        stableIndex = 1\n",
    "        variableIndex = 2\n",
    "    else:\n",
    "        stableIndex = 2\n",
    "        variableIndex = 1\n",
    "    results_subsample = {}\n",
    "    for i in results:\n",
    "        temp = i.split('_')\n",
    "        if temp[stableIndex] == value:\n",
    "            results_subsample[float(temp[variableIndex])] = results[i]\n",
    "    perTestSetResults = {}\n",
    "    for testSet in ['balanced', 'biased', 'original']:\n",
    "        finalResultDict = {}\n",
    "        for i in sorted(results_subsample.keys()):\n",
    "            for j in results_subsample[i][testSet]:\n",
    "                for k in results_subsample[i][testSet][j]:\n",
    "                    if k not in finalResultDict:\n",
    "                        finalResultDict[k] = []\n",
    "                    if metric == 'eod':\n",
    "                        finalResultDict[k].append(abs(results_subsample[i][testSet][j][k].equal_opportunity_difference()))\n",
    "                    elif metric == 'acc':\n",
    "                        finalResultDict[k].append(abs(results_subsample[i][testSet][j][k].accuracy()))\n",
    "                    elif metric == 'dp':\n",
    "                        finalResultDict[k].append(abs(results_subsample[i][testSet][j][k].statistical_parity_difference()))\n",
    "        perTestSetResults[testSet] = finalResultDict\n",
    "    plt.figure(figsize=(10,6))\n",
    "    plt.title(f'{dataset}: {variable_var} variable, {static_var} fixed at {value}')\n",
    "    for testSet in perTestSetResults:\n",
    "        finalResultDict = perTestSetResults[testSet]\n",
    "        for i in finalResultDict:\n",
    "            if i in only_plots:\n",
    "                    plt.plot(sorted(results_subsample.keys()), finalResultDict[i], label=f'{i}_{testSet}')\n",
    "    plt.xlabel(f'Imbalance on {variable_var}')\n",
    "    plt.ylabel(metric)\n",
    "    plt.legend(bbox_to_anchor=(1,1))"
   ]
  },
  {
   "cell_type": "code",
   "execution_count": 90,
   "id": "496d3b0a",
   "metadata": {},
   "outputs": [
    {
     "data": {
      "image/png": "[encoded data removed]",
      "text/plain": [
       "<Figure size 720x432 with 1 Axes>"
      ]
     },
     "metadata": {
      "needs_background": "light"
     },
     "output_type": "display_data"
    }
   ],
   "source": [
    "static_var = 'beta_pos'\n",
    "variable_var = 'beta_neg'\n",
    "only_plots = ['lr', 'rew']\n",
    "plotResults_multipleTestSets(static_var=static_var, variable_var=variable_var, value='1.0', metric='dp', only_plots=only_plots, results=allDatasetResults)"
   ]
  },
  {
   "cell_type": "markdown",
   "id": "cfb800f6",
   "metadata": {},
   "source": [
    "### Synthetic Data Preparatation"
   ]
  },
  {
   "cell_type": "code",
   "execution_count": 1,
   "id": "d0a0f579",
   "metadata": {},
   "outputs": [],
   "source": [
    "import numpy as np\n",
    "import pandas as pd\n",
    "import pickle"
   ]
  },
  {
   "cell_type": "code",
   "execution_count": 2,
   "id": "283d05c9",
   "metadata": {},
   "outputs": [],
   "source": [
    "def generate_examples(num_examples=20000, dim=100, var=1, means=None):\n",
    "    #num_a_1 = int(0.7*num_examples) # 14000\n",
    "    #num_a_0 = num_examples - num_a_1 # 6000\n",
    "    num_a_1 = 0\n",
    "    num_a_0 = 0\n",
    "    for i in range(num_examples):\n",
    "        if np.random.uniform(0,1) < 0.7:\n",
    "            num_a_1 += 1\n",
    "        else:\n",
    "            num_a_0 += 1\n",
    "    # subgroup populations\n",
    "    #num_y_1_a_1 = int(0.7*num_a_1) # 9800\n",
    "    #num_y_0_a_1 = num_a_1 - num_y_1_a_1 # 4200\n",
    "    #num_y_1_a_0 = int(0.4*num_a_0) # 2400\n",
    "    #num_y_0_a_0 = num_a_0 - num_y_1_a_0 # 3600\n",
    "    num_y_1_a_1 = 0\n",
    "    num_y_0_a_1 = 0\n",
    "    for i in range(num_a_1):\n",
    "        if np.random.uniform(0,1) < 0.7:\n",
    "            num_y_1_a_1 += 1\n",
    "        else:\n",
    "            num_y_0_a_1 += 1\n",
    "    num_y_1_a_0 = 0\n",
    "    num_y_0_a_0 = 0\n",
    "    for i in range(num_a_0):\n",
    "        if np.random.uniform(0,1) < 0.4:\n",
    "            num_y_1_a_0 += 1\n",
    "        else:\n",
    "            num_y_0_a_0 += 1\n",
    "    #print(num_y_1_a_1, num_y_0_a_1, num_y_1_a_0, num_y_0_a_0)\n",
    "    # groupwise pdfs mu_y_a\n",
    "    if means == None:\n",
    "        mu_0_0 = [np.random.uniform(0,1) for i in range(dim)]\n",
    "        mu_0_1 = [np.random.uniform(0,1) for i in range(dim)]\n",
    "        mu_1_0 = [np.random.uniform(0,1) for i in range(dim)]\n",
    "        mu_1_1 = [np.random.uniform(0,1) for i in range(dim)]\n",
    "    else:\n",
    "        mu_0_0 = means[0]\n",
    "        mu_0_1 = means[1]\n",
    "        mu_1_0 = means[2]\n",
    "        mu_1_1 = means[3]\n",
    "    covar = var*np.eye(dim)\n",
    "    # Samples\n",
    "    samples_0_0 = np.random.multivariate_normal(mu_0_0, covar, num_y_0_a_0)\n",
    "    samples_0_1 = np.random.multivariate_normal(mu_0_1, covar, num_y_0_a_1)\n",
    "    samples_1_0 = np.random.multivariate_normal(mu_1_0, covar, num_y_1_a_0)\n",
    "    samples_1_1 = np.random.multivariate_normal(mu_1_1, covar, num_y_1_a_1)\n",
    "    sensitive = np.asarray([0]*len(samples_0_0) + [1]*len(samples_0_1) + [0]*len(samples_1_0) + [1]*len(samples_1_1))\n",
    "    label = np.asarray([0]*len(samples_0_0) + [0]*len(samples_0_1) + [1]*len(samples_1_0) + [1]*len(samples_1_1))\n",
    "    return [mu_0_0, mu_0_1, mu_1_0, mu_1_1], np.vstack((samples_0_0, samples_0_1, samples_1_0, samples_1_1)), sensitive, label"
   ]
  },
  {
   "cell_type": "code",
   "execution_count": 3,
   "id": "2ce10ab4",
   "metadata": {},
   "outputs": [],
   "source": [
    "means, x, z, y = generate_examples()"
   ]
  },
  {
   "cell_type": "code",
   "execution_count": 4,
   "id": "feff601c",
   "metadata": {},
   "outputs": [],
   "source": [
    "#train_dataset = pd.DataFrame({'feature':x.reshape((-1,)), 'sensitive':z, 'label':y})\n",
    "rows = []\n",
    "for i in range(len(x)):\n",
    "    row = {}\n",
    "    for j in range(len(x[i])):\n",
    "        row[f'fea{j}'] = x[i][j]\n",
    "    row['sensitive'] = z[i]\n",
    "    row['label'] = y[i]\n",
    "    rows.append(row)\n",
    "train_dataset = pd.DataFrame.from_dict(rows)"
   ]
  },
  {
   "cell_type": "code",
   "execution_count": 5,
   "id": "4931ebd7",
   "metadata": {},
   "outputs": [],
   "source": [
    "_, x, z, y = generate_examples(means=means, num_examples=5000)"
   ]
  },
  {
   "cell_type": "code",
   "execution_count": 6,
   "id": "9446b2ae",
   "metadata": {},
   "outputs": [],
   "source": [
    "rows = []\n",
    "for i in range(len(x)):\n",
    "    row = {}\n",
    "    for j in range(len(x[i])):\n",
    "        row[f'fea{j}'] = x[i][j]\n",
    "    row['sensitive'] = z[i]\n",
    "    row['label'] = y[i]\n",
    "    rows.append(row)\n",
    "test_dataset = pd.DataFrame.from_dict(rows)"
   ]
  },
  {
   "cell_type": "code",
   "execution_count": 7,
   "id": "900961a4",
   "metadata": {},
   "outputs": [],
   "source": [
    "#train_dataset.to_csv('/media/data_dump/Mohit/neurips2022_data/synthetic/raw/original_train.csv', index=False)"
   ]
  },
  {
   "cell_type": "code",
   "execution_count": 8,
   "id": "98003081",
   "metadata": {},
   "outputs": [],
   "source": [
    "#test_dataset.to_csv('/media/data_dump/Mohit/neurips2022_data/synthetic/raw/original_test.csv', index=False)"
   ]
  },
  {
   "cell_type": "code",
   "execution_count": 9,
   "id": "dff5a572",
   "metadata": {},
   "outputs": [],
   "source": [
    "# with open('/media/data_dump/Mohit/neurips2022_data/synthetic/means.pkl', 'wb') as f:\n",
    "#   pickle.dump(means, f)"
   ]
  },
  {
   "cell_type": "code",
   "execution_count": null,
   "id": "e0af72fb",
   "metadata": {},
   "outputs": [],
   "source": []
  },
  {
   "cell_type": "code",
   "execution_count": null,
   "id": "0b6eb0f2",
   "metadata": {},
   "outputs": [],
   "source": []
  },
  {
   "cell_type": "code",
   "execution_count": null,
   "id": "2b9a9a3a",
   "metadata": {},
   "outputs": [],
   "source": []
  },
  {
   "cell_type": "code",
   "execution_count": null,
   "id": "d24800ce",
   "metadata": {},
   "outputs": [],
   "source": []
  },
  {
   "cell_type": "markdown",
   "id": "34e5b4cd",
   "metadata": {},
   "source": [
    "### Trying out EthicML Implementations"
   ]
  },
  {
   "cell_type": "code",
   "execution_count": 1,
   "id": "025facaf",
   "metadata": {},
   "outputs": [
    {
     "name": "stderr",
     "output_type": "stream",
     "text": [
      "/home/mohit/.conda/envs/fairness/lib/python3.6/site-packages/tqdm/auto.py:22: TqdmWarning: IProgress not found. Please update jupyter and ipywidgets. See https://ipywidgets.readthedocs.io/en/stable/user_install.html\n",
      "  from .autonotebook import tqdm as notebook_tqdm\n"
     ]
    }
   ],
   "source": [
    "from data_utils import splitDataset, preprocessDataset\n",
    "import pandas as pd\n",
    "import os\n",
    "os.environ[\"CUDA_DEVICE_ORDER\"]=\"PCI_BUS_ID\"   # see issue #152\n",
    "os.environ[\"CUDA_VISIBLE_DEVICES\"]=\"2\""
   ]
  },
  {
   "cell_type": "code",
   "execution_count": 2,
   "id": "235af2b5",
   "metadata": {},
   "outputs": [],
   "source": [
    "dataset = 'adult'\n",
    "train_dataset, test_dataset = preprocessDataset(f'/media/data_dump/Mohit/neurips2022_data/{dataset}/raw/betaDatasets/imbalance_1.0_1.0', f'/media/data_dump/Mohit/neurips2022_data/{dataset}/raw/test_betaDatasets/imbalance_1.0_1.0', dataset)"
   ]
  },
  {
   "cell_type": "code",
   "execution_count": 3,
   "id": "a87c8fa2",
   "metadata": {},
   "outputs": [],
   "source": [
    "from aif360.algorithms.inprocessing import AdversarialDebiasing\n",
    "import tensorflow.compat.v1 as tf\n",
    "tf.disable_eager_execution()\n",
    "sensitive='sex'\n",
    "label='income'\n",
    "privileged_groups = [{'sex':1}]\n",
    "unprivileged_groups = [{'sex': 0}]\n",
    "favorable_label = 1\n",
    "unfavorable_label = 0\n",
    "temp_cls = AdversarialDebiasing(unprivileged_groups, privileged_groups, scope_name='temp', sess=tf.Session())"
   ]
  },
  {
   "cell_type": "code",
   "execution_count": 4,
   "id": "e76a8747",
   "metadata": {
    "scrolled": true
   },
   "outputs": [
    {
     "data": {
      "text/plain": [
       "<aif360.algorithms.inprocessing.adversarial_debiasing.AdversarialDebiasing at 0x7fbd164f3710>"
      ]
     },
     "execution_count": 4,
     "metadata": {},
     "output_type": "execute_result"
    }
   ],
   "source": [
    "temp_cls.fit(train_dataset)"
   ]
  },
  {
   "cell_type": "code",
   "execution_count": 5,
   "id": "aeb4c907",
   "metadata": {},
   "outputs": [
    {
     "data": {
      "text/plain": [
       "-0.19637403845538565"
      ]
     },
     "execution_count": 5,
     "metadata": {},
     "output_type": "execute_result"
    }
   ],
   "source": [
    "from aif360.metrics import ClassificationMetric\n",
    "ClassificationMetric(test_dataset, test_dataset, unprivileged_groups, privileged_groups).statistical_parity_difference()"
   ]
  },
  {
   "cell_type": "code",
   "execution_count": 6,
   "id": "e7d3768f",
   "metadata": {},
   "outputs": [
    {
     "data": {
      "text/plain": [
       "-0.0394664140372831"
      ]
     },
     "execution_count": 6,
     "metadata": {},
     "output_type": "execute_result"
    }
   ],
   "source": [
    "ClassificationMetric(test_dataset, temp_cls.predict(test_dataset), unprivileged_groups, privileged_groups).statistical_parity_difference()"
   ]
  },
  {
   "cell_type": "code",
   "execution_count": null,
   "id": "a31a4a36",
   "metadata": {},
   "outputs": [],
   "source": [
    "sess"
   ]
  },
  {
   "cell_type": "code",
   "execution_count": 3,
   "id": "223e97a9",
   "metadata": {},
   "outputs": [
    {
     "ename": "ModuleNotFoundError",
     "evalue": "No module named 'ranzen'",
     "output_type": "error",
     "traceback": [
      "\u001b[0;31m---------------------------------------------------------------------------\u001b[0m",
      "\u001b[0;31mModuleNotFoundError\u001b[0m                       Traceback (most recent call last)",
      "\u001b[0;32m<ipython-input-3-88543ecefd69>\u001b[0m in \u001b[0;36m<module>\u001b[0;34m\u001b[0m\n\u001b[1;32m      1\u001b[0m \u001b[0;32mfrom\u001b[0m \u001b[0mtyping\u001b[0m \u001b[0;32mimport\u001b[0m \u001b[0mOptional\u001b[0m\u001b[0;34m,\u001b[0m \u001b[0mType\u001b[0m\u001b[0;34m\u001b[0m\u001b[0;34m\u001b[0m\u001b[0m\n\u001b[1;32m      2\u001b[0m \u001b[0;34m\u001b[0m\u001b[0m\n\u001b[0;32m----> 3\u001b[0;31m \u001b[0;32mfrom\u001b[0m \u001b[0mranzen\u001b[0m \u001b[0;32mimport\u001b[0m \u001b[0mimplements\u001b[0m\u001b[0;34m\u001b[0m\u001b[0;34m\u001b[0m\u001b[0m\n\u001b[0m\u001b[1;32m      4\u001b[0m \u001b[0;32mfrom\u001b[0m \u001b[0mtorch\u001b[0m \u001b[0;32mimport\u001b[0m \u001b[0mTensor\u001b[0m\u001b[0;34m,\u001b[0m \u001b[0mnn\u001b[0m\u001b[0;34m\u001b[0m\u001b[0;34m\u001b[0m\u001b[0m\n\u001b[1;32m      5\u001b[0m \u001b[0;32mfrom\u001b[0m \u001b[0mtorch\u001b[0m\u001b[0;34m.\u001b[0m\u001b[0mnn\u001b[0m\u001b[0;34m.\u001b[0m\u001b[0mmodules\u001b[0m\u001b[0;34m.\u001b[0m\u001b[0mloss\u001b[0m \u001b[0;32mimport\u001b[0m \u001b[0mNLLLoss\u001b[0m\u001b[0;34m,\u001b[0m \u001b[0m_Loss\u001b[0m\u001b[0;34m\u001b[0m\u001b[0;34m\u001b[0m\u001b[0m\n",
      "\u001b[0;31mModuleNotFoundError\u001b[0m: No module named 'ranzen'"
     ]
    }
   ],
   "source": [
    "from typing import Optional, Type\n",
    "\n",
    "from ranzen import implements\n",
    "from torch import Tensor, nn\n",
    "from torch.nn.modules.loss import NLLLoss, _Loss\n",
    "\n",
    "__all__ = [\"DROLoss\"]\n",
    "\n",
    "\n",
    "class DROLoss(nn.Module):\n",
    "    \"\"\"Fairness Without Demographics Loss.\"\"\"\n",
    "\n",
    "    def __init__(self, loss_module: Optional[Type[_Loss]] = None, eta: float = 0.5):\n",
    "        \"\"\"Set up the loss, set which loss you want to optimize and the eta to offset by.\"\"\"\n",
    "        super().__init__()\n",
    "        if loss_module is None:\n",
    "            loss_module = NLLLoss\n",
    "        self.loss = loss_module(reduction=\"none\")\n",
    "        self.eta = eta\n",
    "\n",
    "    @implements(nn.Module)\n",
    "    def forward(self, pred: Tensor, target: Tensor) -> Tensor:  # pylint: disable=arguments-differ\n",
    "        return (self.loss(pred, target=target) - self.eta).relu().pow(2).mean()"
   ]
  },
  {
   "cell_type": "markdown",
   "id": "583b088c",
   "metadata": {},
   "source": []
  },
  {
   "cell_type": "code",
   "execution_count": null,
   "id": "7cd8b352",
   "metadata": {},
   "outputs": [],
   "source": []
  },
  {
   "cell_type": "code",
   "execution_count": null,
   "id": "af99176c",
   "metadata": {},
   "outputs": [],
   "source": []
  },
  {
   "cell_type": "code",
   "execution_count": null,
   "id": "644da006",
   "metadata": {},
   "outputs": [],
   "source": []
  },
  {
   "cell_type": "code",
   "execution_count": null,
   "id": "a769ca12",
   "metadata": {},
   "outputs": [],
   "source": []
  },
  {
   "cell_type": "code",
   "execution_count": null,
   "id": "67c22c15",
   "metadata": {},
   "outputs": [],
   "source": []
  },
  {
   "cell_type": "code",
   "execution_count": null,
   "id": "5e9d1795",
   "metadata": {},
   "outputs": [],
   "source": []
  },
  {
   "cell_type": "code",
   "execution_count": null,
   "id": "bdc7cacb",
   "metadata": {},
   "outputs": [],
   "source": []
  },
  {
   "cell_type": "code",
   "execution_count": null,
   "id": "bf6e2eaf",
   "metadata": {},
   "outputs": [],
   "source": []
  },
  {
   "cell_type": "code",
   "execution_count": null,
   "id": "ffaceb81",
   "metadata": {},
   "outputs": [],
   "source": []
  },
  {
   "cell_type": "code",
   "execution_count": null,
   "id": "bf361778",
   "metadata": {},
   "outputs": [],
   "source": []
  },
  {
   "cell_type": "code",
   "execution_count": null,
   "id": "686db51f",
   "metadata": {},
   "outputs": [],
   "source": []
  },
  {
   "cell_type": "code",
   "execution_count": null,
   "id": "ed3b9535",
   "metadata": {},
   "outputs": [],
   "source": []
  },
  {
   "cell_type": "code",
   "execution_count": null,
   "id": "4939b83f",
   "metadata": {},
   "outputs": [],
   "source": []
  },
  {
   "cell_type": "code",
   "execution_count": null,
   "id": "42ed35d4",
   "metadata": {},
   "outputs": [],
   "source": []
  }
 ],
 "metadata": {
  "kernelspec": {
   "display_name": "Python 3",
   "language": "python",
   "name": "python3"
  },
  "language_info": {
   "codemirror_mode": {
    "name": "ipython",
    "version": 3
   },
   "file_extension": ".py",
   "mimetype": "text/x-python",
   "name": "python",
   "nbconvert_exporter": "python",
   "pygments_lexer": "ipython3",
   "version": "3.6.13"
  }
 },
 "nbformat": 4,
 "nbformat_minor": 5
}
